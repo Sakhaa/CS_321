{
 "cells": [
  {
   "cell_type": "code",
   "execution_count": 24,
   "metadata": {},
   "outputs": [
    {
     "name": "stdout",
     "output_type": "stream",
     "text": [
      "                0           1           2           3           4           5  \\\n",
      "count  768.000000  768.000000  768.000000  768.000000  768.000000  768.000000   \n",
      "mean     3.845052  120.894531   69.105469   20.536458   79.799479   31.992578   \n",
      "std      3.369578   31.972618   19.355807   15.952218  115.244002    7.884160   \n",
      "min      0.000000    0.000000    0.000000    0.000000    0.000000    0.000000   \n",
      "25%      1.000000   99.000000   62.000000    0.000000    0.000000   27.300000   \n",
      "50%      3.000000  117.000000   72.000000   23.000000   30.500000   32.000000   \n",
      "75%      6.000000  140.250000   80.000000   32.000000  127.250000   36.600000   \n",
      "max     17.000000  199.000000  122.000000   99.000000  846.000000   67.100000   \n",
      "\n",
      "                6           7           8  \n",
      "count  768.000000  768.000000  768.000000  \n",
      "mean     0.471876   33.240885    0.348958  \n",
      "std      0.331329   11.760232    0.476951  \n",
      "min      0.078000   21.000000    0.000000  \n",
      "25%      0.243750   24.000000    0.000000  \n",
      "50%      0.372500   29.000000    0.000000  \n",
      "75%      0.626250   41.000000    1.000000  \n",
      "max      2.420000   81.000000    1.000000  \n"
     ]
    }
   ],
   "source": [
    "import pandas as pd\n",
    "import numpy \n",
    "import numpy  as np\n",
    "from sklearn.discriminant_analysis import LinearDiscriminantAnalysis\n",
    "from sklearn.model_selection import KFold\n",
    "from sklearn.model_selection import cross_val_score\n",
    "from sklearn.preprocessing import Imputer\n",
    "import pylab as pl\n",
    "from scipy.spatial.distance import cdist\n",
    "from sklearn.cluster import KMeans\n",
    "import matplotlib.pyplot as plt\n",
    "from sklearn.decomposition import PCA\n",
    "\n",
    "dataset = pd.read_csv('C:\\\\Users\\\\Admin\\\\Desktop\\\\I.csv', header=None)\n",
    "print(dataset.describe())\n"
   ]
  },
  {
   "cell_type": "code",
   "execution_count": 25,
   "metadata": {},
   "outputs": [
    {
     "name": "stdout",
     "output_type": "stream",
     "text": [
      "     0    1   2   3    4     5      6   7  8\n",
      "0    6  148  72  35    0  33.6  0.627  50  1\n",
      "1    1   85  66  29    0  26.6  0.351  31  0\n",
      "2    8  183  64   0    0  23.3  0.672  32  1\n",
      "3    1   89  66  23   94  28.1  0.167  21  0\n",
      "4    0  137  40  35  168  43.1  2.288  33  1\n",
      "5    5  116  74   0    0  25.6  0.201  30  0\n",
      "6    3   78  50  32   88  31.0  0.248  26  1\n",
      "7   10  115   0   0    0  35.3  0.134  29  0\n",
      "8    2  197  70  45  543  30.5  0.158  53  1\n",
      "9    8  125  96   0    0   0.0  0.232  54  1\n",
      "10   4  110  92   0    0  37.6  0.191  30  0\n",
      "11  10  168  74   0    0  38.0  0.537  34  1\n",
      "12  10  139  80   0    0  27.1  1.441  57  0\n",
      "13   1  189  60  23  846  30.1  0.398  59  1\n",
      "14   5  166  72  19  175  25.8  0.587  51  1\n",
      "15   7  100   0   0    0  30.0  0.484  32  1\n",
      "16   0  118  84  47  230  45.8  0.551  31  1\n",
      "17   7  107  74   0    0  29.6  0.254  31  1\n",
      "18   1  103  30  38   83  43.3  0.183  33  0\n",
      "19   1  115  70  30   96  34.6  0.529  32  1\n"
     ]
    }
   ],
   "source": [
    "# print the first 20 rows of data\n",
    "print(dataset.head(20))"
   ]
  },
  {
   "cell_type": "code",
   "execution_count": 26,
   "metadata": {},
   "outputs": [
    {
     "name": "stdout",
     "output_type": "stream",
     "text": [
      "Dimension of dataset: dataset.shape\n"
     ]
    },
    {
     "data": {
      "text/plain": [
       "0      int64\n",
       "1      int64\n",
       "2      int64\n",
       "3      int64\n",
       "4      int64\n",
       "5    float64\n",
       "6    float64\n",
       "7      int64\n",
       "8      int64\n",
       "dtype: object"
      ]
     },
     "execution_count": 26,
     "metadata": {},
     "output_type": "execute_result"
    }
   ],
   "source": [
    "print(\"Dimension of dataset: dataset.shape\")\n",
    "dataset.dtypes"
   ]
  },
  {
   "cell_type": "code",
   "execution_count": 27,
   "metadata": {},
   "outputs": [],
   "source": [
    "# mark zero values as missing or NaN\n",
    "dataset= dataset.replace(0, numpy.NaN)"
   ]
  },
  {
   "cell_type": "code",
   "execution_count": 28,
   "metadata": {},
   "outputs": [
    {
     "name": "stdout",
     "output_type": "stream",
     "text": [
      "0\n"
     ]
    }
   ],
   "source": [
    "# fill missing values with mean column values\n",
    "values = dataset.values\n",
    "imputer = Imputer()\n",
    "transformed_values = imputer.fit_transform(values)\n",
    "# count the number of NaN values in each column\n",
    "print(numpy.isnan(transformed_values).sum())\n",
    "dataset.dropna(inplace=True)"
   ]
  },
  {
   "cell_type": "code",
   "execution_count": 35,
   "metadata": {},
   "outputs": [
    {
     "name": "stdout",
     "output_type": "stream",
     "text": [
      "(111, 8)\n",
      "(111,)\n"
     ]
    }
   ],
   "source": [
    "# split dataset into inputs and outputs\n",
    "values = dataset.values\n",
    "X = values[:,0:8]\n",
    "y = values[:,8]\n",
    "\n",
    "print(X.shape)\n",
    "print(y.shape)"
   ]
  },
  {
   "cell_type": "code",
   "execution_count": 30,
   "metadata": {},
   "outputs": [
    {
     "name": "stdout",
     "output_type": "stream",
     "text": [
      "1.0\n",
      "        0      1      2     3      4     5      6   7    8\n",
      "6     3.0   78.0   50.0  32.0   88.0  31.0  0.248  26  1.0\n",
      "8     2.0  197.0   70.0  45.0  543.0  30.5  0.158  53  1.0\n",
      "13    1.0  189.0   60.0  23.0  846.0  30.1  0.398  59  1.0\n",
      "14    5.0  166.0   72.0  19.0  175.0  25.8  0.587  51  1.0\n",
      "19    1.0  115.0   70.0  30.0   96.0  34.6  0.529  32  1.0\n",
      "24   11.0  143.0   94.0  33.0  146.0  36.6  0.254  51  1.0\n",
      "25   10.0  125.0   70.0  26.0  115.0  31.1  0.205  41  1.0\n",
      "31    3.0  158.0   76.0  36.0  245.0  31.6  0.851  28  1.0\n",
      "39    4.0  111.0   72.0  47.0  207.0  37.1  1.390  56  1.0\n",
      "43    9.0  171.0  110.0  24.0  240.0  45.4  0.721  54  1.0\n",
      "53    8.0  176.0   90.0  34.0  300.0  33.7  0.467  58  1.0\n",
      "56    7.0  187.0   68.0  39.0  304.0  37.7  0.254  41  1.0\n",
      "70    2.0  100.0   66.0  20.0   90.0  32.9  0.867  28  1.0\n",
      "88   15.0  136.0   70.0  32.0  110.0  37.1  0.153  43  1.0\n",
      "99    1.0  122.0   90.0  51.0  220.0  49.7  0.325  31  1.0\n",
      "110   3.0  171.0   72.0  33.0  135.0  33.3  0.199  24  1.0\n",
      "111   8.0  155.0   62.0  26.0  495.0  34.0  0.543  46  1.0\n",
      "114   7.0  160.0   54.0  32.0  175.0  30.5  0.588  39  1.0\n",
      "125   1.0   88.0   30.0  42.0   99.0  55.0  0.496  26  1.0\n",
      "128   1.0  117.0   88.0  24.0  145.0  34.5  0.403  40  1.0\n",
      "130   4.0  173.0   70.0  14.0  168.0  29.7  0.361  33  1.0\n",
      "132   3.0  170.0   64.0  37.0  225.0  34.5  0.356  30  1.0\n",
      "152   9.0  156.0   86.0  28.0  155.0  34.3  1.189  42  1.0\n",
      "159  17.0  163.0   72.0  41.0  114.0  40.9  0.817  47  1.0\n",
      "165   6.0  104.0   74.0  18.0  156.0  29.9  0.722  41  1.0\n",
      "171   6.0  134.0   70.0  23.0  130.0  35.4  0.542  29  1.0\n",
      "175   8.0  179.0   72.0  42.0  130.0  32.7  0.719  36  1.0\n",
      "186   8.0  181.0   68.0  36.0  495.0  30.1  0.615  60  1.0\n",
      "187   1.0  128.0   98.0  41.0   58.0  32.0  1.321  33  1.0\n",
      "188   8.0  109.0   76.0  39.0  114.0  27.9  0.640  31  1.0\n",
      "..    ...    ...    ...   ...    ...   ...    ...  ..  ...\n",
      "541   3.0  128.0   72.0  25.0  190.0  32.4  0.549  27  1.0\n",
      "545   8.0  186.0   90.0  35.0  225.0  34.5  0.423  37  1.0\n",
      "546   5.0  187.0   76.0  27.0  207.0  43.6  1.034  53  1.0\n",
      "584   8.0  124.0   76.0  24.0  600.0  28.7  0.687  52  1.0\n",
      "588   3.0  176.0   86.0  27.0  156.0  33.3  1.154  52  1.0\n",
      "603   7.0  150.0   78.0  29.0  126.0  35.2  0.692  54  1.0\n",
      "606   1.0  181.0   78.0  42.0  293.0  40.0  1.258  22  1.0\n",
      "611   3.0  174.0   58.0  22.0  194.0  32.9  0.593  36  1.0\n",
      "612   7.0  168.0   88.0  42.0  321.0  38.2  0.787  40  1.0\n",
      "614  11.0  138.0   74.0  26.0  144.0  36.1  0.557  50  1.0\n",
      "638   7.0   97.0   76.0  32.0   91.0  40.9  0.871  32  1.0\n",
      "646   1.0  167.0   74.0  17.0  144.0  23.4  0.447  33  1.0\n",
      "648  11.0  136.0   84.0  35.0  130.0  28.3  0.260  42  1.0\n",
      "655   2.0  155.0   52.0  27.0  540.0  38.7  0.240  25  1.0\n",
      "659   3.0   80.0   82.0  31.0   70.0  34.2  1.292  27  1.0\n",
      "662   8.0  167.0  106.0  46.0  231.0  37.6  0.165  43  1.0\n",
      "663   9.0  145.0   80.0  46.0  130.0  37.9  0.637  40  1.0\n",
      "689   1.0  144.0   82.0  46.0  180.0  46.1  0.335  46  1.0\n",
      "693   7.0  129.0   68.0  49.0  125.0  38.5  0.439  43  1.0\n",
      "695   7.0  142.0   90.0  24.0  480.0  30.4  0.128  43  1.0\n",
      "696   3.0  169.0   74.0  19.0  125.0  29.9  0.268  31  1.0\n",
      "709   2.0   93.0   64.0  32.0  160.0  38.0  0.674  23  1.0\n",
      "715   7.0  187.0   50.0  33.0  392.0  33.9  0.826  34  1.0\n",
      "716   3.0  173.0   78.0  39.0  185.0  33.8  0.970  31  1.0\n",
      "722   1.0  149.0   68.0  29.0  127.0  29.3  0.349  42  1.0\n",
      "730   3.0  130.0   78.0  23.0   79.0  28.4  0.323  34  1.0\n",
      "732   2.0  174.0   88.0  37.0  120.0  44.5  0.646  24  1.0\n",
      "740  11.0  120.0   80.0  37.0  150.0  42.3  0.785  48  1.0\n",
      "748   3.0  187.0   70.0  22.0  200.0  36.4  0.408  36  1.0\n",
      "755   1.0  128.0   88.0  39.0  110.0  36.5  1.057  37  1.0\n",
      "\n",
      "[111 rows x 9 columns]\n"
     ]
    },
    {
     "name": "stderr",
     "output_type": "stream",
     "text": [
      "C:\\Users\\Admin\\Anaconda3\\lib\\site-packages\\sklearn\\discriminant_analysis.py:388: UserWarning: Variables are collinear.\n",
      "  warnings.warn(\"Variables are collinear.\")\n",
      "C:\\Users\\Admin\\Anaconda3\\lib\\site-packages\\sklearn\\discriminant_analysis.py:402: RuntimeWarning: invalid value encountered in true_divide\n",
      "  S**2))[:self._max_components]\n",
      "C:\\Users\\Admin\\Anaconda3\\lib\\site-packages\\sklearn\\discriminant_analysis.py:388: UserWarning: Variables are collinear.\n",
      "  warnings.warn(\"Variables are collinear.\")\n",
      "C:\\Users\\Admin\\Anaconda3\\lib\\site-packages\\sklearn\\discriminant_analysis.py:402: RuntimeWarning: invalid value encountered in true_divide\n",
      "  S**2))[:self._max_components]\n",
      "C:\\Users\\Admin\\Anaconda3\\lib\\site-packages\\sklearn\\discriminant_analysis.py:388: UserWarning: Variables are collinear.\n",
      "  warnings.warn(\"Variables are collinear.\")\n",
      "C:\\Users\\Admin\\Anaconda3\\lib\\site-packages\\sklearn\\discriminant_analysis.py:402: RuntimeWarning: invalid value encountered in true_divide\n",
      "  S**2))[:self._max_components]\n"
     ]
    }
   ],
   "source": [
    "# evaluate an LDA model on the dataset using k-fold cross validation\n",
    "model = LinearDiscriminantAnalysis()\n",
    "kfold = KFold(n_splits=3, random_state=7)\n",
    "result = cross_val_score(model, X, y, cv=kfold, scoring='accuracy')\n",
    "print(result.mean())\n",
    "print(dataset)\n"
   ]
  },
  {
   "cell_type": "code",
   "execution_count": 31,
   "metadata": {},
   "outputs": [
    {
     "data": {
      "image/png": "[encoded data removed]",
      "text/plain": [
       "<Figure size 432x288 with 1 Axes>"
      ]
     },
     "metadata": {},
     "output_type": "display_data"
    }
   ],
   "source": [
    "#clustering part how to find K value  \n",
    "\n",
    "distortions = []\n",
    "\n",
    "for i in  range(1,10):\n",
    "    kmeanModel = KMeans(n_clusters=i,init='k-means++',random_state=0)\n",
    "    kmeanModel.fit(X)\n",
    "    #distortions.append(sum(np.min(cdist(X, kmeanModel.cluster_centers_, 'euclidean'), axis=1)) / X.shape[0])\n",
    "    distortions.append(kmeanModel.inertia_)\n",
    "\n",
    "plt.plot(range(1,10), distortions, 'bx-')\n",
    "plt.xlabel('k')\n",
    "plt.ylabel('Distortion')\n",
    "plt.title('The Elbow Method showing the optimal k')\n",
    "plt.show()\n"
   ]
  },
  {
   "cell_type": "code",
   "execution_count": 32,
   "metadata": {},
   "outputs": [],
   "source": [
    "# why ???\n"
   ]
  },
  {
   "cell_type": "code",
   "execution_count": 54,
   "metadata": {},
   "outputs": [
    {
     "name": "stdout",
     "output_type": "stream",
     "text": [
      "(111,)\n",
      "(111, 8)\n"
     ]
    },
    {
     "data": {
      "text/plain": [
       "KMeans(algorithm='auto', copy_x=True, init='k-means++', max_iter=300,\n",
       "    n_clusters=3, n_init=10, n_jobs=1, precompute_distances='auto',\n",
       "    random_state=0, tol=0.0001, verbose=0)"
      ]
     },
     "execution_count": 54,
     "metadata": {},
     "output_type": "execute_result"
    }
   ],
   "source": [
    "kmeans=KMeans(n_clusters=3,init='k-means++',random_state=0)\n",
    "y=kmeans.fit_predict(X)\n",
    "kmeansoutput=kmeans.fit(X)\n",
    "\n",
    "print(y.shape)\n",
    "y = np.reshape(y,(111,1))\n",
    "print(X.shape)\n",
    "kmeansoutput"
   ]
  },
  {
   "cell_type": "code",
   "execution_count": 59,
   "metadata": {},
   "outputs": [
    {
     "data": {
      "text/plain": [
       "<matplotlib.collections.PathCollection at 0x209f9fb1860>"
      ]
     },
     "execution_count": 59,
     "metadata": {},
     "output_type": "execute_result"
    },
    {
     "data": {
      "image/png": "[encoded data removed]",
      "text/plain": [
       "<Figure size 432x288 with 1 Axes>"
      ]
     },
     "metadata": {},
     "output_type": "display_data"
    }
   ],
   "source": [
    "pl.scatter(X[:,0],X[:,1],X[:,2], c=kmeansoutput.labels_)\n"
   ]
  },
  {
   "cell_type": "code",
   "execution_count": null,
   "metadata": {},
   "outputs": [],
   "source": []
  },
  {
   "cell_type": "code",
   "execution_count": null,
   "metadata": {},
   "outputs": [],
   "source": []
  },
  {
   "cell_type": "code",
   "execution_count": null,
   "metadata": {},
   "outputs": [],
   "source": []
  }
 ],
 "metadata": {
  "kernelspec": {
   "display_name": "Python 3",
   "language": "python",
   "name": "python3"
  },
  "language_info": {
   "codemirror_mode": {
    "name": "ipython",
    "version": 3
   },
   "file_extension": ".py",
   "mimetype": "text/x-python",
   "name": "python",
   "nbconvert_exporter": "python",
   "pygments_lexer": "ipython3",
   "version": "3.6.5"
  }
 },
 "nbformat": 4,
 "nbformat_minor": 2
}
